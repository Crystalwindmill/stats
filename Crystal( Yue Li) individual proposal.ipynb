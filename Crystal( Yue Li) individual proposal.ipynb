{
 "cells": [
  {
   "cell_type": "markdown",
   "id": "18859a12",
   "metadata": {},
   "source": [
    "analysis 1: \n",
    "\n",
    "statement of the specific research question： \n",
    "want to compare whether male and female has a same wellness life satisfaction value rate or not.\n",
    "\n",
    "variables to explore: \n",
    "using variables Demo_gender (male or female)\n",
    "and WELLNESS_life_satisfaction (with the value of rating)\n",
    "I am choosing those two variables because I want to compare two genders, so Demo_gender is a good varible that helps to give two category of WELLNESS_life_satisfaction data repsect to male and female with their statisfaction rating. \n",
    "I will using two boxplots in the same graph to visualize the comparsion between male and female, with x-axis of happiness rating and y-axis of category male and female. I am using boxplot because it is an easy tool to compare two boxplots with their median, Q1，Q3 and their outliers, which gives a more direct visualization of whether males or females is rating higher accroding to those distributions.\n",
    "\n",
    "\n",
    "analysis to perform:\n",
    "Here, I will use hypothesis testing.\n",
    "first, define my hypothesis:\n",
    "Ho: There is no difference in life satisfaction between males and females (here using the population meanμ) μmale=μ female\n",
    "H1: There is difference in life satisfaction between males and females (here using the population meanμ) μmale !=μ female\n",
    "first, we stimulate once: randomly take 30 males and 30 females sample, calculate both sample means and then get the difference of means, the difference is the threshold of being extreme\n",
    "second, taking 100 trails, each trail with 30 males and females, without replacement.\n",
    "using code to stimulation to calculate the sample mean of each time, then forming a distribution of sample means.\n",
    "Third, calculate p-value by using the threshold we get in the first step.\n",
    "Finally, define a 0.05 siginficance level and compare it with p to find whether reject the H0 or not.\n",
    "\n",
    "Hypothesised possible results:\n",
    "I hypothesied that p-value< 0.05, we reject H0 and say there is likely a difference between male and female wellness life satisfaction.This relates to our first proposal question, helping to test that it is likely male or female has a different wellness life satisfaction value rate."
   ]
  },
  {
   "cell_type": "markdown",
   "id": "a98e6cb0",
   "metadata": {},
   "source": [
    "analysis 2: \n",
    "statement of the specific research question：\n",
    "I want to know weather the more close friends people have will connet to the more statisfaction they have in their life.\n",
    "\n",
    "variables to explore:\n",
    "using varible WELLNESS_life_satisfaction (with the value of people rating self-assessment of life) and CONNECTION_social_num_close_friends_grouped(with the number value of friends reported by the people) \n",
    "I am choosing those two variables because according to what correlation that I want to explore, which is whether there is a positive relationship between the close friends number and rating of life satisfaction, so those two variables perfectly fit what I want to measure and test with.\n",
    "I here want to use a scatter plot with life satisfaction on y-axis and the number of friends on x-axis that can help me to see the general relationship and trend between two variables. Since each point in the plot presents a value of both satisfaction rating and close friend, the two variable plot gives a direct visualization to see the whole correlationship.\n",
    "\n",
    "analysis to perform:\n",
    "I will do a  one-tailed test to determine if there’s a positive correlation, therefore, to do a hypothesis testing for the simple linear regression model: first base on data we to get𝑦̂ 𝑖=𝛽̂ 0+𝛽̂1𝑥𝑖 from  𝑌𝑖=𝛽0+𝛽1𝑥𝑖+𝜖𝑖 (the latter one is the population parameter)\n",
    "First, do a hypothesis:\n",
    "H0: There is no positive correlation, or the correlation is less than or equal to zero. 𝛽̂1<=0\n",
    "H1: There is positive correlation, or the correlation larger than zero. 𝛽̂1>0\n",
    "Second: \n",
    "import data with y= WELLNESS_life_satisfaction, x = CONNECTION_social_num_close_friends_grouped\n",
    "using Model Fitting via statsmodels.formula.api as smf and smf.ols(...).fit() to get our fitted linear regression model \n",
    "Third: use fitted_model.summary()\n",
    "get p-value from the column P>|t| for Q(\"CONNECTION_social_num_close_friends_grouped\")\n",
    "since it is a single-tailed, the final p value is calculated by column P>|t|/2 if coefficient we stimulated is larger than 0. \n",
    "Fourth: set a significant level of 0.05 to compare with p value to see whether we reject the H0 or not \n",
    "\n",
    "Hypothesised possible results: There is positive correlation, or the correlation larger than zero 𝛽̂1>0( the correaltion coefficient between WELLNESS_life_satisfaction and CONNECTION_social_num_close_friends_grouped. This relates to our first proposal question, helping to test that it is likely that more close friends people have will connet to the more statisfaction they have in their life."
   ]
  },
  {
   "cell_type": "markdown",
   "id": "56895620",
   "metadata": {},
   "source": [
    "analysis 3: \n",
    "statement of the specific research question：\n",
    "I want to know what is the average time that people work per week？\n",
    "\n",
    "variables to explore:\n",
    "I will use WORK_hours_per_week. This is relatively specific as the variable is what people report the amount of hours they spent on work per week. Thus, here I want to explore is the population mean time of people work per week by using variable WORK_hours_per_week and its data.\n",
    "Here, the ideal visaulization is the histogram used to show frequencies of different time intervals, with a skewness, pattern and center(mean).\n",
    "\n",
    "analysis perform:\n",
    "Due to great amounts of NA value in the WORK_hours_per_week category, I will first use dropna to delete the not applicable rows, then use bootstrapping to get an confidence interval to infer the popluation mean of average time people work per week. \n",
    "Second, random sample a with a size of 100. \n",
    "Third, sampling from the random sample with replacement with over 10000 trials.\n",
    "Fourth, calculation each sample mean to form a sample distribution. Then get a sample mean from the distirbution and sample standard deviation from the distribution. \n",
    "Fifth, get a 95% confidence interval by using CI=Mean±Z×SE(calculated by using sample size and sample standard deviation)\n",
    "Finally, 95% of using this way to get our parameter, we will find the true parameter in this interval, and the most likely point is the mean of the sampling distribution. \n",
    "\n",
    "Hypothesised possible results: \n",
    "I did not calculate the mean but I just simply hypotheized that the parameter will be between(10,30)(due to too many outliers of 0).\n",
    "This interval shows that by trying 95% of the times using the same way, our average time that people work per week is between 10 hours and 30 hours. \n"
   ]
  },
  {
   "cell_type": "markdown",
   "id": "8092cbc6",
   "metadata": {},
   "source": [
    "group preference: I have already formed a group of four with Howard, Zachary, and Tsai, Yu-Hsuan\n",
    "I kindly request your approval of our group proposal. Thank you for your consideration!"
   ]
  }
 ],
 "metadata": {
  "kernelspec": {
   "display_name": "Python 3 (ipykernel)",
   "language": "python",
   "name": "python3"
  },
  "language_info": {
   "codemirror_mode": {
    "name": "ipython",
    "version": 3
   },
   "file_extension": ".py",
   "mimetype": "text/x-python",
   "name": "python",
   "nbconvert_exporter": "python",
   "pygments_lexer": "ipython3",
   "version": "3.11.6"
  }
 },
 "nbformat": 4,
 "nbformat_minor": 5
}
